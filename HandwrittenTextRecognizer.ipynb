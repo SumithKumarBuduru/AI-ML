{
  "nbformat": 4,
  "nbformat_minor": 0,
  "metadata": {
    "colab": {
      "name": "HandwrittenTextRecognizer.ipynb",
      "provenance": [],
      "collapsed_sections": []
    },
    "kernelspec": {
      "name": "python3",
      "display_name": "Python 3"
    },
    "language_info": {
      "name": "python"
    },
    "accelerator": "GPU"
  },
  "cells": [
    {
      "cell_type": "markdown",
      "metadata": {
        "id": "8N9qFXUntZ4D"
      },
      "source": [
        "#1 Read the parser.txt file containing the image id and the respective word for that image and take the first 10000 instances for training and testing of the mode\n",
        "\n",
        "Preprocessing the image and text data\n",
        "Download data from https://drive.google.com/file/d/142gq5VFqCEgs1UGfmuDb6ianzALU44JF/view?usp=sharing"
      ]
    },
    {
      "cell_type": "code",
      "metadata": {
        "id": "v0u_FM-ltiWw",
        "colab": {
          "base_uri": "https://localhost:8080/"
        },
        "outputId": "f34cda9f-22d2-4fb3-db7e-4a93955363e9"
      },
      "source": [
        "!gdown --id 142gq5VFqCEgs1UGfmuDb6ianzALU44JF\n",
        "!gdown --id 1lZA6WjzssJQYBEN7XLq4rhtxuRpqqmhT"
      ],
      "execution_count": null,
      "outputs": [
        {
          "output_type": "stream",
          "name": "stdout",
          "text": [
            "Downloading...\n",
            "From: https://drive.google.com/uc?id=142gq5VFqCEgs1UGfmuDb6ianzALU44JF\n",
            "To: /content/words.tgz.zip\n",
            "100% 820M/820M [00:05<00:00, 141MB/s] \n",
            "Downloading...\n",
            "From: https://drive.google.com/uc?id=1lZA6WjzssJQYBEN7XLq4rhtxuRpqqmhT\n",
            "To: /content/parser.txt\n",
            "100% 5.30M/5.30M [00:00<00:00, 19.9MB/s]\n"
          ]
        }
      ]
    },
    {
      "cell_type": "markdown",
      "metadata": {
        "id": "0w9L9fVRbmwq"
      },
      "source": [
        "Unzip and extract the test image data\n"
      ]
    },
    {
      "cell_type": "code",
      "metadata": {
        "id": "bBuPctu9bntw"
      },
      "source": [
        "!unzip words.tgz.zip\n",
        "!tar -xvf words.tgz -C ./words"
      ],
      "execution_count": null,
      "outputs": []
    },
    {
      "cell_type": "code",
      "metadata": {
        "id": "fUygW4d4dRWE"
      },
      "source": [
        "import string\n",
        "import numpy as np\n",
        "import pandas as pd\n",
        "import cv2\n",
        "import os\n",
        "import matplotlib.pyplot as plt\n",
        "from keras.preprocessing.sequence import pad_sequences\n"
      ],
      "execution_count": null,
      "outputs": []
    },
    {
      "cell_type": "markdown",
      "metadata": {
        "id": "Xu8GPtk3eJm9"
      },
      "source": [
        "Open the parser.txt file and read the data"
      ]
    },
    {
      "cell_type": "code",
      "metadata": {
        "colab": {
          "base_uri": "https://localhost:8080/"
        },
        "id": "jzBgtvhIeGgT",
        "outputId": "4637b204-075d-4b0e-ce8c-30d9054d5609"
      },
      "source": [
        "with open(\"parser.txt\") as fp:\n",
        "  parseData = fp.read().split('\\n')\n",
        "parseData[:10]"
      ],
      "execution_count": null,
      "outputs": [
        {
          "output_type": "execute_result",
          "data": {
            "text/plain": [
              "['a01-000u-00-00 ok 154 408 768 27 51 AT A',\n",
              " 'a01-000u-00-01 ok 154 507 766 213 48 NN MOVE',\n",
              " 'a01-000u-00-02 ok 154 796 764 70 50 TO to',\n",
              " 'a01-000u-00-03 ok 154 919 757 166 78 VB stop',\n",
              " 'a01-000u-00-04 ok 154 1185 754 126 61 NPT Mr.',\n",
              " 'a01-000u-00-05 ok 154 1438 746 382 73 NP Gaitskell',\n",
              " 'a01-000u-00-06 ok 154 1896 757 173 72 IN from',\n",
              " 'a01-000u-01-00 ok 156 395 932 441 100 VBG nominating',\n",
              " 'a01-000u-01-01 ok 156 901 958 147 79 DTI any',\n",
              " 'a01-000u-01-02 ok 156 1112 958 208 42 AP more']"
            ]
          },
          "metadata": {},
          "execution_count": 11
        }
      ]
    },
    {
      "cell_type": "markdown",
      "metadata": {
        "id": "Aio6t2x2hlQr"
      },
      "source": [
        "### Check the data and load 10000 labels and filenames"
      ]
    },
    {
      "cell_type": "code",
      "metadata": {
        "colab": {
          "base_uri": "https://localhost:8080/"
        },
        "id": "eIGnx5JfwNR0",
        "outputId": "0307be8b-cd12-49ae-b617-fde0c07f24e3"
      },
      "source": [
        "# check the data size\n",
        "len(parseData)\n",
        "\n",
        "lmt = 10000 if len(parseData) >= 10000 else len(parseData)\n",
        "print(lmt) \n"
      ],
      "execution_count": null,
      "outputs": [
        {
          "output_type": "stream",
          "name": "stdout",
          "text": [
            "10000\n"
          ]
        }
      ]
    },
    {
      "cell_type": "code",
      "metadata": {
        "colab": {
          "base_uri": "https://localhost:8080/"
        },
        "id": "Ye3OIjmDe9L2",
        "outputId": "8df1816d-ee57-4ebf-c4f8-13aa650062a7"
      },
      "source": [
        "\n",
        "lmt = len(parseData)\n",
        "curSize = 0\n",
        "filenames = []\n",
        "orgLables = []\n",
        "\n",
        "for i in range(lmt):\n",
        "  line = parseData[i].split(' ')\n",
        "  name = line[0].split('-')\n",
        "  status = line[1]\n",
        "  if status != 'ok':\n",
        "    continue\n",
        "  filename = \"/content/words/{}/{}-{}/{}.png\".format(name[0],name[0],name[1],line[0])\n",
        "  #print(filename)\n",
        "  filenames.append(filename)\n",
        "  orgLables.append(line[-1])\n",
        "  curSize +=1\n",
        "  if (curSize > 10000):\n",
        "    break\n",
        "\n",
        "len(filenames)\n",
        "len(orgLables)"
      ],
      "execution_count": null,
      "outputs": [
        {
          "output_type": "execute_result",
          "data": {
            "text/plain": [
              "10001"
            ]
          },
          "metadata": {},
          "execution_count": 43
        }
      ]
    },
    {
      "cell_type": "markdown",
      "metadata": {
        "id": "3oty4H8ywn9t"
      },
      "source": [
        "#2. Images can be of different shape thus resize all your images to have the same shape(for example = (128,32)\n",
        "\n",
        "#3 Currently,the pixel values are between 0 to 255, normalize the images so that the pixel values are in range 0 to 1\n",
        "\n",
        "#4 Create a list of all characters and use the character’s index to encode the actual words into digits\n",
        "\n",
        "#5 Pad all the words to have a similar length\n",
        "\n",
        "#6 Split your dataset for training and testing\n",
        "\n"
      ]
    },
    {
      "cell_type": "code",
      "metadata": {
        "id": "MUx5poF0wnS0",
        "colab": {
          "base_uri": "https://localhost:8080/",
          "height": 301
        },
        "outputId": "6627961a-381c-4f26-ad97-e799046a4a5c"
      },
      "source": [
        "img = cv2.imread(filenames[0], cv2.IMREAD_GRAYSCALE)\n",
        "print(img.shape)\n",
        "plt.imshow(img)"
      ],
      "execution_count": null,
      "outputs": [
        {
          "output_type": "stream",
          "name": "stdout",
          "text": [
            "(51, 27)\n"
          ]
        },
        {
          "output_type": "execute_result",
          "data": {
            "text/plain": [
              "<matplotlib.image.AxesImage at 0x7f8373d47f50>"
            ]
          },
          "metadata": {},
          "execution_count": 37
        },
        {
          "output_type": "display_data",
          "data": {
            "image/png": "[encoded data removed]",
            "text/plain": [
              "<Figure size 432x288 with 1 Axes>"
            ]
          },
          "metadata": {
            "needs_background": "light"
          }
        }
      ]
    },
    {
      "cell_type": "code",
      "metadata": {
        "colab": {
          "base_uri": "https://localhost:8080/",
          "height": 406
        },
        "id": "QsTy7lt8yNbZ",
        "outputId": "9535a4ed-34fa-4bc1-ac0a-f7ffcc8cb4a9"
      },
      "source": [
        "img2 = cv2.resize(img, (128,32))\n",
        "print(img2.shape)\n",
        "plt.imshow(img2)\n",
        "print(img2)\n",
        "img2 = cv2.normalize(img2,(0,1))\n",
        "print(img2)\n",
        "plt.imshow(img2)"
      ],
      "execution_count": null,
      "outputs": [
        {
          "output_type": "stream",
          "name": "stdout",
          "text": [
            "(32, 128)\n",
            "[[249 249 249 ... 251 251 251]\n",
            " [245 245 245 ... 251 251 251]\n",
            " [245 245 245 ... 251 251 251]\n",
            " ...\n",
            " [103 103 104 ... 143 146 146]\n",
            " [125 125 127 ... 233 234 234]\n",
            " [157 157 159 ... 241 242 242]]\n",
            "[[0 0 0 ... 0 0 0]\n",
            " [0 0 0 ... 0 0 0]\n",
            " [0 0 0 ... 0 0 0]\n",
            " ...\n",
            " [0 0 0 ... 0 0 0]\n",
            " [0 0 0 ... 0 0 0]\n",
            " [0 0 0 ... 0 0 0]]\n"
          ]
        },
        {
          "output_type": "execute_result",
          "data": {
            "text/plain": [
              "<matplotlib.image.AxesImage at 0x7f8373a6a950>"
            ]
          },
          "metadata": {},
          "execution_count": 46
        },
        {
          "output_type": "display_data",
          "data": {
            "image/png": "[encoded data removed]",
            "text/plain": [
              "<Figure size 432x288 with 1 Axes>"
            ]
          },
          "metadata": {
            "needs_background": "light"
          }
        }
      ]
    },
    {
      "cell_type": "code",
      "metadata": {
        "id": "jTpi32cPQZcO"
      },
      "source": [
        "def getRescaledSize(w, h):\n",
        "  dh = 0\n",
        "  dw = 0\n",
        "  aspectRatio = w/h\n",
        "  if h > 32 :\n",
        "    #print(\"1\")\n",
        "    dh = 32\n",
        "    dw = dh / aspectRatio\n",
        "    #print(\"2\")\n",
        "    #print(dw, dh)\n",
        "  if w > 128 :\n",
        "    dw = 128\n",
        "    dh = dw * aspectRatio\n",
        "  \n",
        "  if h <= 32 and w <= 128:\n",
        "    dh = 32\n",
        "    dw = dh / aspectRatio\n",
        "\n",
        "  if dw > 128 :\n",
        "    dw = 128\n",
        "    dh = dw * aspectRatio\n",
        "  if dh > 32 :\n",
        "    dh = 32\n",
        "    dw = dh / aspectRatio\n",
        "  \n",
        "  dh = int(dh)\n",
        "  dw = int(dw)\n",
        "  return (dw, dh)"
      ],
      "execution_count": null,
      "outputs": []
    },
    {
      "cell_type": "code",
      "metadata": {
        "id": "g6O5OybxRLC8"
      },
      "source": [
        "def resizeImageWithZeros(img, dw, dh):\n",
        "  if dh < 32:\n",
        "     add_zeros = np.ones((32-dh, dw))*255\n",
        "     img = np.concatenate((img, add_zeros))\n",
        "\n",
        "  if dw < 128:\n",
        "    add_zeros = np.ones((32, 128-dw))*255\n",
        "    img = np.concatenate((img, add_zeros), axis=1)\n",
        "  return img\n"
      ],
      "execution_count": null,
      "outputs": []
    },
    {
      "cell_type": "code",
      "metadata": {
        "id": "Pi-m0ltty01X"
      },
      "source": [
        "def transformImage(imgPath):\n",
        "  # read input image and convert into gray scale image\n",
        "  try:\n",
        "    img = cv2.imread(imgPath, cv2.IMREAD_GRAYSCALE)\n",
        "    w, h = img.shape\n",
        "    #print(w,h)\n",
        "    #scale the image to 128x32\n",
        "    dw, dh = getRescaledSize(w, h)\n",
        "    #print(dw, dh)\n",
        "    img = cv2.resize(img, (dw, dh))\n",
        "  except NameError:\n",
        "    print('Erorr')\n",
        "    return \n",
        "  return resizeImageWithZeros(img, dw, dh)\n"
      ],
      "execution_count": null,
      "outputs": []
    },
    {
      "cell_type": "code",
      "metadata": {
        "colab": {
          "base_uri": "https://localhost:8080/"
        },
        "id": "c-wkkt93zd5R",
        "outputId": "b46c8aab-37af-41c6-99af-cfdfd71ff4f4"
      },
      "source": [
        "path = filenames[0]\n",
        "img = cv2.imread(path, cv2.IMREAD_GRAYSCALE)\n",
        "print(img.shape)\n",
        "#print(plt.imshow(img))\n"
      ],
      "execution_count": null,
      "outputs": [
        {
          "output_type": "stream",
          "name": "stdout",
          "text": [
            "(51, 27)\n"
          ]
        }
      ]
    },
    {
      "cell_type": "code",
      "metadata": {
        "colab": {
          "base_uri": "https://localhost:8080/",
          "height": 253
        },
        "id": "PJHqLrL4z6tZ",
        "outputId": "c53ae434-c1fc-4947-d475-617c87d049fd"
      },
      "source": [
        "path = filenames[2]\n",
        "img = transformImage(path)\n",
        "print(img.shape)\n",
        "plt.imshow(img)\n"
      ],
      "execution_count": null,
      "outputs": [
        {
          "output_type": "stream",
          "name": "stdout",
          "text": [
            "50 70\n",
            "1\n",
            "2\n",
            "44.8 32\n",
            "44 32\n",
            "(32, 128)\n"
          ]
        },
        {
          "output_type": "execute_result",
          "data": {
            "text/plain": [
              "<matplotlib.image.AxesImage at 0x7f836d4a8790>"
            ]
          },
          "metadata": {},
          "execution_count": 128
        },
        {
          "output_type": "display_data",
          "data": {
            "image/png": "[encoded data removed]",
            "text/plain": [
              "<Figure size 432x288 with 1 Axes>"
            ]
          },
          "metadata": {
            "needs_background": "light"
          }
        }
      ]
    },
    {
      "cell_type": "code",
      "metadata": {
        "id": "nS3S9HTgH9jS"
      },
      "source": [
        "char_list = string.ascii_letters+string.digits+ string.punctuation\n",
        " \n",
        "def encodeLabels(txt):\n",
        "    # encoding each output word into digits\n",
        "    dig_lst = []\n",
        "    for index, char in enumerate(txt):\n",
        "        try:\n",
        "            dig_lst.append(char_list.index(char))\n",
        "        except:\n",
        "            print(char)\n",
        "        \n",
        "    return dig_lst"
      ],
      "execution_count": null,
      "outputs": []
    },
    {
      "cell_type": "code",
      "metadata": {
        "colab": {
          "base_uri": "https://localhost:8080/"
        },
        "id": "fTcGdkaISOHR",
        "outputId": "f022af06-66d8-436f-ca02-b40e1d14f009"
      },
      "source": [
        "enTxt = encodeLabels(orgLables[1])\n",
        "print(orgLables[1], enTxt)"
      ],
      "execution_count": null,
      "outputs": [
        {
          "output_type": "stream",
          "name": "stdout",
          "text": [
            "MOVE [38, 40, 47, 30]\n"
          ]
        }
      ]
    },
    {
      "cell_type": "code",
      "metadata": {
        "id": "84m-oj6xSX20"
      },
      "source": [
        "def normalizeData(data):\n",
        "  data = np.expand_dims(data , axis = 2)\n",
        "        \n",
        "  # Normalize the data\n",
        "  data = data/255\n",
        "  return data\n"
      ],
      "execution_count": null,
      "outputs": []
    },
    {
      "cell_type": "code",
      "metadata": {
        "id": "knDMTrJ6otvT"
      },
      "source": [
        ""
      ],
      "execution_count": null,
      "outputs": []
    },
    {
      "cell_type": "code",
      "metadata": {
        "colab": {
          "base_uri": "https://localhost:8080/"
        },
        "id": "kzuIgd7VegRg",
        "outputId": "a99b126d-8f6d-4e4e-8240-5ae0802c4d3e"
      },
      "source": [
        "maxLen = 0\n",
        "tImages = []\n",
        "enc_lables = []\n",
        "enc_lables_len= []\n",
        "input_len = []\n",
        "\n",
        "train_data = []\n",
        "train_inputLen = []\n",
        "train_labels = []\n",
        "train_labelLen = []\n",
        "org_txt = []\n",
        "\n",
        "valid_data = []\n",
        "valid_inputLen = []\n",
        "valid_labels = []\n",
        "valid_labelLen = []\n",
        "valid_org_txt = []\n",
        "\n",
        "for i in range(len(orgLables)):\n",
        "  #transform the image\n",
        "  \n",
        "  try:\n",
        "    img = transformImage(filenames[i])\n",
        "  except AttributeError:\n",
        "    print(i, filenames[i], AttributeError)\n",
        "  else:\n",
        "    #normalize\n",
        "    imgData = normalizeData(img)\n",
        "  \n",
        "    #encode the labels\n",
        "    encLab = encodeLabels(orgLables[i])\n",
        "\n",
        "    tImages.append(imgData)\n",
        "    org_txt.append(orgLables[i])\n",
        "    enc_lables.append(encLab)\n",
        "    enc_lables_len.append(len(encLab))\n",
        "    input_len.append(31)\n",
        "\n",
        "    # if i % 10 == 0 :\n",
        "    #   valid_data.append(imgData)\n",
        "    #   valid_org_txt.append(orgLables[i])\n",
        "    #   valid_labels.append(encLab)\n",
        "    #   valid_labelLen.append(len(encLab))\n",
        "    #   valid_inputLen.append(31)\n",
        "    # else:\n",
        "    #   train_data.append(imgData)\n",
        "    #   org_txt.append(orgLables[i])\n",
        "    #   train_labels.append(encLab)\n",
        "    #   train_labelLen.append(len(encLab))\n",
        "    #   train_inputLen.append(31)\n",
        "\n",
        "\n",
        "  maxLen = maxLen if maxLen > len(encLab) else len(encLab)\n",
        "\n",
        "\n"
      ],
      "execution_count": null,
      "outputs": [
        {
          "output_type": "stream",
          "name": "stdout",
          "text": [
            "3600 /content/words/a01/a01-117/a01-117-05-02.png <class 'AttributeError'>\n"
          ]
        }
      ]
    },
    {
      "cell_type": "code",
      "metadata": {
        "id": "hLalJ8GwtsKd"
      },
      "source": [
        "from sklearn.model_selection import train_test_split\n",
        "\n",
        "train_data, valid_data, org_txt, valid_org_txt, train_labels, valid_labels, train_labelLen, valid_labelLen,train_inputLen, valid_inputLen = train_test_split(tImages, org_txt,enc_lables,enc_lables_len,input_len, test_size=0.1)\n",
        "\n",
        "\n",
        "#add the padding\n",
        "train_padded_txt = pad_sequences(train_labels, maxlen=maxLen, padding='post', value = len(char_list))\n",
        "valid_padded_txt = pad_sequences(valid_labels, maxlen=maxLen, padding='post', value = len(char_list))\n"
      ],
      "execution_count": null,
      "outputs": []
    },
    {
      "cell_type": "code",
      "metadata": {
        "colab": {
          "base_uri": "https://localhost:8080/"
        },
        "id": "RzBef5MTPyu5",
        "outputId": "10985882-054d-4db3-ce4b-3b6cffce1a4d"
      },
      "source": [
        "len(train_data)\n",
        "len(valid_data)"
      ],
      "execution_count": null,
      "outputs": [
        {
          "output_type": "execute_result",
          "data": {
            "text/plain": [
              "1000"
            ]
          },
          "metadata": {},
          "execution_count": 80
        }
      ]
    },
    {
      "cell_type": "markdown",
      "metadata": {
        "id": "3ZUFNvJEzVP3"
      },
      "source": [
        "# Create the model - CNN + BiLSTM\n",
        "#7 Create a model for training\n",
        "a)Add several CNN layers to extract the sequence of features\n",
        "\n",
        "b)Add Bi-LSTM layers to propagate through the sequence\n",
        "\n",
        "c)Add a dense layer(output layer) with total number of neurons as (total number of characters + 1) and the activation as softmax.\n",
        "\n",
        "#8 The output sequence from the output layer will be fed to the CTC layer\n",
        "\n",
        "#9 Predict output using your model(do notuse the last loss layer) on validation images, use ctc_decodeto decode your output and then print the actual words using the indexes from your character’s list."
      ]
    },
    {
      "cell_type": "code",
      "metadata": {
        "id": "J4LQ3pZ1zg2a"
      },
      "source": [
        "import tensorflow\n",
        "from tensorflow.keras.models import Sequential\n",
        "from tensorflow.keras.layers import Bidirectional, LSTM, Dense,Lambda, BatchNormalization, Conv2D, Flatten, Dropout, MaxPool2D, Activation, Input\n",
        "import keras.backend as K\n",
        "from keras.models import Model\n",
        "from keras.callbacks import ModelCheckpoint\n"
      ],
      "execution_count": null,
      "outputs": []
    },
    {
      "cell_type": "code",
      "metadata": {
        "colab": {
          "base_uri": "https://localhost:8080/",
          "height": 35
        },
        "id": "cGZXaR7DYfIk",
        "outputId": "22419bb3-5734-4e40-f3bf-9cad39cb19b3"
      },
      "source": [
        "tensorflow.__version__"
      ],
      "execution_count": null,
      "outputs": [
        {
          "output_type": "execute_result",
          "data": {
            "application/vnd.google.colaboratory.intrinsic+json": {
              "type": "string"
            },
            "text/plain": [
              "'2.6.0'"
            ]
          },
          "metadata": {},
          "execution_count": 21
        }
      ]
    },
    {
      "cell_type": "code",
      "metadata": {
        "colab": {
          "base_uri": "https://localhost:8080/"
        },
        "id": "NNzIIQz-ZFYD",
        "outputId": "51be9d28-dc7c-46e3-cc8c-8d9e288903d3"
      },
      "source": [
        "tensorflow.config.list_physical_devices('GPU')"
      ],
      "execution_count": null,
      "outputs": [
        {
          "output_type": "execute_result",
          "data": {
            "text/plain": [
              "[PhysicalDevice(name='/physical_device:GPU:0', device_type='GPU')]"
            ]
          },
          "metadata": {},
          "execution_count": 22
        }
      ]
    },
    {
      "cell_type": "code",
      "metadata": {
        "colab": {
          "base_uri": "https://localhost:8080/"
        },
        "id": "rW-wgMbwZRtl",
        "outputId": "81ffa3dc-9d76-456e-a3ab-15972b373748"
      },
      "source": [
        "!nvidia-smi"
      ],
      "execution_count": null,
      "outputs": [
        {
          "output_type": "stream",
          "name": "stdout",
          "text": [
            "Sat Oct 16 16:49:53 2021       \n",
            "+-----------------------------------------------------------------------------+\n",
            "| NVIDIA-SMI 470.74       Driver Version: 460.32.03    CUDA Version: 11.2     |\n",
            "|-------------------------------+----------------------+----------------------+\n",
            "| GPU  Name        Persistence-M| Bus-Id        Disp.A | Volatile Uncorr. ECC |\n",
            "| Fan  Temp  Perf  Pwr:Usage/Cap|         Memory-Usage | GPU-Util  Compute M. |\n",
            "|                               |                      |               MIG M. |\n",
            "|===============================+======================+======================|\n",
            "|   0  Tesla K80           Off  | 00000000:00:04.0 Off |                    0 |\n",
            "| N/A   57C    P0    71W / 149W |    183MiB / 11441MiB |      0%      Default |\n",
            "|                               |                      |                  N/A |\n",
            "+-------------------------------+----------------------+----------------------+\n",
            "                                                                               \n",
            "+-----------------------------------------------------------------------------+\n",
            "| Processes:                                                                  |\n",
            "|  GPU   GI   CI        PID   Type   Process name                  GPU Memory |\n",
            "|        ID   ID                                                   Usage      |\n",
            "|=============================================================================|\n",
            "|  No running processes found                                                 |\n",
            "+-----------------------------------------------------------------------------+\n"
          ]
        }
      ]
    },
    {
      "cell_type": "code",
      "metadata": {
        "id": "XJSRPDshZtqx"
      },
      "source": [
        "inputs = Input(shape=(32,128,1))\n",
        "\n",
        "# convolution layer with kernel size (3,3)\n",
        "conv_1 = Conv2D(64, (3,3), activation = 'relu', padding='same')(inputs)\n",
        "# poolig layer with kernel size (2,2)\n",
        "pool_1 = MaxPool2D(pool_size=(2, 2), strides=2)(conv_1)\n",
        "\n",
        "conv_2 = Conv2D(128, (3,3), activation = 'relu', padding='same')(pool_1)\n",
        "pool_2 = MaxPool2D(pool_size=(2, 2), strides=2)(conv_2)\n",
        "\n",
        "conv_3 = Conv2D(256, (3,3), activation = 'relu', padding='same')(pool_2)\n",
        "\n",
        "conv_4 = Conv2D(256, (3,3), activation = 'relu', padding='same')(conv_3)\n",
        "# poolig layer with kernel size (2,1)\n",
        "pool_4 = MaxPool2D(pool_size=(2, 1))(conv_4)\n",
        "\n",
        "conv_5 = Conv2D(512, (3,3), activation = 'relu', padding='same')(pool_4)\n",
        "# Batch normalization layer\n",
        "batch_norm_5 = BatchNormalization()(conv_5)\n",
        "\n",
        "conv_6 = Conv2D(512, (3,3), activation = 'relu', padding='same')(batch_norm_5)\n",
        "batch_norm_6 = BatchNormalization()(conv_6)\n",
        "pool_6 = MaxPool2D(pool_size=(2, 1))(batch_norm_6)\n",
        "\n",
        "conv_7 = Conv2D(512, (2,2), activation = 'relu')(pool_6)\n",
        "\n",
        "squeezed = Lambda(lambda x: K.squeeze(x, 1))(conv_7)\n",
        "\n",
        "# bidirectional LSTM layers with units=128\n",
        "blstm_1 = Bidirectional(LSTM(128, return_sequences=True, dropout = 0.2))(squeezed)\n",
        "blstm_2 = Bidirectional(LSTM(128, return_sequences=True, dropout = 0.2))(blstm_1)\n",
        "\n",
        "char_list = string.ascii_letters + string.digits + string.punctuation\n",
        "\n",
        "outputs = Dense(len(char_list)+1, activation = 'softmax')(blstm_2)\n",
        "\n",
        "act_model = Model(inputs, outputs)"
      ],
      "execution_count": null,
      "outputs": []
    },
    {
      "cell_type": "code",
      "metadata": {
        "colab": {
          "base_uri": "https://localhost:8080/"
        },
        "id": "Al3AXc-MbPXr",
        "outputId": "bdc9dd00-61d9-4b73-dec3-31eb95a005ff"
      },
      "source": [
        "act_model.summary()"
      ],
      "execution_count": null,
      "outputs": [
        {
          "output_type": "stream",
          "name": "stdout",
          "text": [
            "Model: \"model_8\"\n",
            "_________________________________________________________________\n",
            "Layer (type)                 Output Shape              Param #   \n",
            "=================================================================\n",
            "input_5 (InputLayer)         [(None, 32, 128, 1)]      0         \n",
            "_________________________________________________________________\n",
            "conv2d_28 (Conv2D)           (None, 32, 128, 64)       640       \n",
            "_________________________________________________________________\n",
            "max_pooling2d_16 (MaxPooling (None, 16, 64, 64)        0         \n",
            "_________________________________________________________________\n",
            "conv2d_29 (Conv2D)           (None, 16, 64, 128)       73856     \n",
            "_________________________________________________________________\n",
            "max_pooling2d_17 (MaxPooling (None, 8, 32, 128)        0         \n",
            "_________________________________________________________________\n",
            "conv2d_30 (Conv2D)           (None, 8, 32, 256)        295168    \n",
            "_________________________________________________________________\n",
            "conv2d_31 (Conv2D)           (None, 8, 32, 256)        590080    \n",
            "_________________________________________________________________\n",
            "max_pooling2d_18 (MaxPooling (None, 4, 32, 256)        0         \n",
            "_________________________________________________________________\n",
            "conv2d_32 (Conv2D)           (None, 4, 32, 512)        1180160   \n",
            "_________________________________________________________________\n",
            "batch_normalization_8 (Batch (None, 4, 32, 512)        2048      \n",
            "_________________________________________________________________\n",
            "conv2d_33 (Conv2D)           (None, 4, 32, 512)        2359808   \n",
            "_________________________________________________________________\n",
            "batch_normalization_9 (Batch (None, 4, 32, 512)        2048      \n",
            "_________________________________________________________________\n",
            "max_pooling2d_19 (MaxPooling (None, 2, 32, 512)        0         \n",
            "_________________________________________________________________\n",
            "conv2d_34 (Conv2D)           (None, 1, 31, 512)        1049088   \n",
            "_________________________________________________________________\n",
            "lambda_4 (Lambda)            (None, 31, 512)           0         \n",
            "_________________________________________________________________\n",
            "bidirectional_8 (Bidirection (None, 31, 256)           656384    \n",
            "_________________________________________________________________\n",
            "bidirectional_9 (Bidirection (None, 31, 256)           394240    \n",
            "_________________________________________________________________\n",
            "dense_4 (Dense)              (None, 31, 95)            24415     \n",
            "=================================================================\n",
            "Total params: 6,627,935\n",
            "Trainable params: 6,625,887\n",
            "Non-trainable params: 2,048\n",
            "_________________________________________________________________\n"
          ]
        }
      ]
    },
    {
      "cell_type": "code",
      "metadata": {
        "id": "tcZOsSsPdyvV"
      },
      "source": [
        "labels = Input(name='the_labels', shape=[maxLen], dtype='float32')\n",
        "input_length = Input(name='input_length', shape=[1], dtype='int64')\n",
        "label_length = Input(name='label_length', shape=[1], dtype='int64')\n",
        " \n",
        " \n",
        "def ctc_lambda_func(args):\n",
        "  y_pred, labels, input_length, label_length = args\n",
        "  return K.ctc_batch_cost(labels, y_pred, input_length, label_length)\n",
        " \n",
        " \n",
        "loss_out = Lambda(ctc_lambda_func, output_shape=(1,), name='ctc')([outputs, labels, input_length, label_length])\n",
        "\n",
        "#model to be used at training time\n",
        "model = Model(inputs=[inputs, labels, input_length, label_length], outputs=loss_out)"
      ],
      "execution_count": null,
      "outputs": []
    },
    {
      "cell_type": "code",
      "metadata": {
        "id": "8zluGu_Nathk"
      },
      "source": [
        "model.compile(loss={'ctc': lambda y_true, y_pred: y_pred}, optimizer = 'adam')\n",
        " \n",
        "filepath=\"best_model.hdf5\"\n",
        "checkpoint = ModelCheckpoint(filepath=filepath, monitor='val_loss', verbose=1, save_best_only=True, mode='auto')\n",
        "callbacks_list = [checkpoint]"
      ],
      "execution_count": null,
      "outputs": []
    },
    {
      "cell_type": "code",
      "metadata": {
        "id": "ihkNs106dvd9"
      },
      "source": [
        "training_img = np.array(train_data)\n",
        "train_inputLen = np.array(train_inputLen)\n",
        "train_labelLen = np.array(train_labelLen)\n",
        "\n",
        "valid_img = np.array(valid_data)\n",
        "valid_inputLen = np.array(valid_inputLen)\n",
        "valid_labelLen = np.array(valid_labelLen)"
      ],
      "execution_count": null,
      "outputs": []
    },
    {
      "cell_type": "code",
      "metadata": {
        "colab": {
          "base_uri": "https://localhost:8080/"
        },
        "id": "uZxS_Lrf_YSG",
        "outputId": "7aa7e159-0a45-4203-8d11-b97d6670ba21"
      },
      "source": [
        "batch_size = 256\n",
        "epochs = 20\n",
        "model.fit(x=[training_img, train_padded_txt, train_inputLen, train_labelLen],\n",
        "          y=np.zeros(len(training_img)),\n",
        "          batch_size=batch_size,\n",
        "          epochs = epochs, \n",
        "          validation_data = ([valid_img, valid_padded_txt, valid_inputLen, valid_labelLen], [np.zeros(len(valid_img))]),\n",
        "          verbose = 1,\n",
        "          callbacks = callbacks_list)\n"
      ],
      "execution_count": null,
      "outputs": [
        {
          "output_type": "stream",
          "name": "stdout",
          "text": [
            "Epoch 1/20\n",
            "36/36 [==============================] - 22s 601ms/step - loss: 14.4515 - val_loss: 14.2461\n",
            "\n",
            "Epoch 00001: val_loss improved from 14.63266 to 14.24605, saving model to best_model.hdf5\n",
            "Epoch 2/20\n",
            "36/36 [==============================] - 22s 598ms/step - loss: 14.1561 - val_loss: 14.3249\n",
            "\n",
            "Epoch 00002: val_loss did not improve from 14.24605\n",
            "Epoch 3/20\n",
            "36/36 [==============================] - 22s 600ms/step - loss: 13.7645 - val_loss: 16.8028\n",
            "\n",
            "Epoch 00003: val_loss did not improve from 14.24605\n",
            "Epoch 4/20\n",
            "36/36 [==============================] - 22s 601ms/step - loss: 13.3384 - val_loss: 22.1624\n",
            "\n",
            "Epoch 00004: val_loss did not improve from 14.24605\n",
            "Epoch 5/20\n",
            "36/36 [==============================] - 22s 600ms/step - loss: 12.7659 - val_loss: 20.7416\n",
            "\n",
            "Epoch 00005: val_loss did not improve from 14.24605\n",
            "Epoch 6/20\n",
            "36/36 [==============================] - 22s 603ms/step - loss: 12.2549 - val_loss: 21.1545\n",
            "\n",
            "Epoch 00006: val_loss did not improve from 14.24605\n",
            "Epoch 7/20\n",
            "36/36 [==============================] - 22s 605ms/step - loss: 11.8659 - val_loss: 15.6380\n",
            "\n",
            "Epoch 00007: val_loss did not improve from 14.24605\n",
            "Epoch 8/20\n",
            "36/36 [==============================] - 21s 598ms/step - loss: 11.4015 - val_loss: 33.2807\n",
            "\n",
            "Epoch 00008: val_loss did not improve from 14.24605\n",
            "Epoch 9/20\n",
            "36/36 [==============================] - 22s 601ms/step - loss: 10.9211 - val_loss: 34.3889\n",
            "\n",
            "Epoch 00009: val_loss did not improve from 14.24605\n",
            "Epoch 10/20\n",
            "36/36 [==============================] - 22s 604ms/step - loss: 10.4704 - val_loss: 39.3592\n",
            "\n",
            "Epoch 00010: val_loss did not improve from 14.24605\n",
            "Epoch 11/20\n",
            "36/36 [==============================] - 22s 606ms/step - loss: 10.0479 - val_loss: 35.9907\n",
            "\n",
            "Epoch 00011: val_loss did not improve from 14.24605\n",
            "Epoch 12/20\n",
            "36/36 [==============================] - 22s 599ms/step - loss: 9.6356 - val_loss: 39.9779\n",
            "\n",
            "Epoch 00012: val_loss did not improve from 14.24605\n",
            "Epoch 13/20\n",
            "36/36 [==============================] - 22s 601ms/step - loss: 9.2426 - val_loss: 25.7851\n",
            "\n",
            "Epoch 00013: val_loss did not improve from 14.24605\n",
            "Epoch 14/20\n",
            "36/36 [==============================] - 21s 591ms/step - loss: 8.7994 - val_loss: 40.1879\n",
            "\n",
            "Epoch 00014: val_loss did not improve from 14.24605\n",
            "Epoch 15/20\n",
            "36/36 [==============================] - 21s 593ms/step - loss: 8.1964 - val_loss: 41.2808\n",
            "\n",
            "Epoch 00015: val_loss did not improve from 14.24605\n",
            "Epoch 16/20\n",
            "36/36 [==============================] - 21s 595ms/step - loss: 7.6712 - val_loss: 38.4607\n",
            "\n",
            "Epoch 00016: val_loss did not improve from 14.24605\n",
            "Epoch 17/20\n",
            "36/36 [==============================] - 22s 598ms/step - loss: 7.1596 - val_loss: 40.2483\n",
            "\n",
            "Epoch 00017: val_loss did not improve from 14.24605\n",
            "Epoch 18/20\n",
            "36/36 [==============================] - 21s 598ms/step - loss: 6.4941 - val_loss: 40.7377\n",
            "\n",
            "Epoch 00018: val_loss did not improve from 14.24605\n",
            "Epoch 19/20\n",
            "36/36 [==============================] - 21s 597ms/step - loss: 5.9740 - val_loss: 26.1822\n",
            "\n",
            "Epoch 00019: val_loss did not improve from 14.24605\n",
            "Epoch 20/20\n",
            "36/36 [==============================] - 22s 602ms/step - loss: 5.3467 - val_loss: 29.0634\n",
            "\n",
            "Epoch 00020: val_loss did not improve from 14.24605\n"
          ]
        },
        {
          "output_type": "execute_result",
          "data": {
            "text/plain": [
              "<keras.callbacks.History at 0x7f6ace00b3d0>"
            ]
          },
          "metadata": {},
          "execution_count": 91
        }
      ]
    },
    {
      "cell_type": "code",
      "metadata": {
        "id": "4OMwL1vl_5Wa"
      },
      "source": [
        "act_model.load_weights(\"best_model.hdf5\")\n",
        "prediction = act_model.predict(valid_img[:10])\n",
        "out = K.get_value(K.ctc_decode(prediction, \n",
        "                               input_length=np.ones(prediction.shape[0])*prediction.shape[1],\n",
        "                               greedy=True)[0][0])"
      ],
      "execution_count": null,
      "outputs": []
    },
    {
      "cell_type": "code",
      "metadata": {
        "colab": {
          "base_uri": "https://localhost:8080/"
        },
        "id": "00MQ-agoCYLQ",
        "outputId": "66cee887-882c-453d-a45b-bb6f1bdd5819"
      },
      "source": [
        "# see the results\n",
        "i = 0\n",
        "for x in out:\n",
        "    print(\"original_text =  \", valid_org_txt[i])\n",
        "    print(\"predicted text = \", end = '')\n",
        "    \n",
        "    for p in x:  \n",
        "        if int(p) != -1:\n",
        "            print(char_list[int(p)], end = '')       \n",
        "    print('\\n')\n",
        "    i+=1"
      ],
      "execution_count": null,
      "outputs": [
        {
          "output_type": "stream",
          "name": "stdout",
          "text": [
            "original_text =   Watford\n",
            "predicted text = t\n",
            "\n",
            "original_text =   was\n",
            "predicted text = t\n",
            "\n",
            "original_text =   my\n",
            "predicted text = t\n",
            "\n",
            "original_text =   more\n",
            "predicted text = t\n",
            "\n",
            "original_text =   Today\n",
            "predicted text = t\n",
            "\n",
            "original_text =   likely\n",
            "predicted text = t\n",
            "\n",
            "original_text =   eventual\n",
            "predicted text = t\n",
            "\n",
            "original_text =   his\n",
            "predicted text = t\n",
            "\n",
            "original_text =   former\n",
            "predicted text = t\n",
            "\n",
            "original_text =   of\n",
            "predicted text = t\n",
            "\n"
          ]
        }
      ]
    },
    {
      "cell_type": "code",
      "metadata": {
        "id": "GcClhW7tDUh4"
      },
      "source": [
        ""
      ],
      "execution_count": null,
      "outputs": []
    }
  ]
}